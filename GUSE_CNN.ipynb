{
 "cells": [
  {
   "cell_type": "code",
   "execution_count": 1,
   "metadata": {},
   "outputs": [],
   "source": [
    "import pandas as pd\n",
    "import numpy as np\n",
    "import tensorflow as tf\n",
    "import tensorflow_addons as tfa\n",
    "from tensorflow import keras\n",
    "from tqdm import tqdm\n",
    "import tensorflow_hub as hub\n",
    "import tensorflow_text\n",
    "\n",
    "RANDOM_SEED = 42\n",
    "np.random.seed(RANDOM_SEED)\n",
    "tf.random.set_seed(RANDOM_SEED)"
   ]
  },
  {
   "cell_type": "code",
   "execution_count": 2,
   "metadata": {},
   "outputs": [],
   "source": [
    "df = pd.read_csv('combined-selftext.csv')\n",
    "#df.head()"
   ]
  },
  {
   "cell_type": "code",
   "execution_count": 3,
   "metadata": {},
   "outputs": [],
   "source": [
    "def str_join(df, sep, *cols):\n",
    "   ...:     from functools import reduce\n",
    "   ...:     return reduce(lambda x, y: x.astype(str).str.cat(y.astype(str), sep=sep), \n",
    "   ...:                   [df[col] for col in cols])\n",
    "   ...: "
   ]
  },
  {
   "cell_type": "code",
   "execution_count": 4,
   "metadata": {},
   "outputs": [],
   "source": [
    "df['text'] = str_join(df,\" \", 'title', 'usertext')"
   ]
  },
  {
   "cell_type": "code",
   "execution_count": 5,
   "metadata": {},
   "outputs": [],
   "source": [
    "del df['title']\n",
    "del df['usertext']"
   ]
  },
  {
   "cell_type": "code",
   "execution_count": 6,
   "metadata": {},
   "outputs": [],
   "source": [
    "import gensim\n",
    "from gensim.parsing.preprocessing import remove_stopwords, STOPWORDS\n",
    "STOPWORDS = STOPWORDS.union(set(['im', 'ive', 'ill', 'wa', 'ha', 'aint', 'thats', 'la', 'le', 'please', 'feel', 'rly', 'u', 'nan', 'emptypost']))\n",
    "\n",
    "stop = STOPWORDS\n",
    "df['text'] = df['text'].apply(lambda x: ' '.join([word for word in x.split() if word not in (stop)]))"
   ]
  },
  {
   "cell_type": "code",
   "execution_count": 11,
   "metadata": {},
   "outputs": [],
   "source": [
    "df[\"is_suicide\"] = df[\"y\"].apply(lambda x: \"depressed\" if x < 1 else \"suicidal\")"
   ]
  },
  {
   "cell_type": "code",
   "execution_count": 13,
   "metadata": {},
   "outputs": [],
   "source": [
    "suicidal_reddits = df[df.is_suicide == \"suicidal\"]\n",
    "depressed_reddits = df[df.is_suicide == \"depressed\"]"
   ]
  },
  {
   "cell_type": "code",
   "execution_count": 19,
   "metadata": {},
   "outputs": [],
   "source": [
    "#suicidal_df = suicidal_reddits.sample(n=len(depressed_reddits), random_state=RANDOM_SEED)\n",
    "suicidal_df = suicidal_reddits\n",
    "depressed_df = depressed_reddits"
   ]
  },
  {
   "cell_type": "code",
   "execution_count": 20,
   "metadata": {},
   "outputs": [],
   "source": [
    "reddits_df = (pd.concat([suicidal_df, depressed_df]))"
   ]
  },
  {
   "cell_type": "code",
   "execution_count": 21,
   "metadata": {},
   "outputs": [
    {
     "data": {
      "text/html": [
       "<div>\n",
       "<style scoped>\n",
       "    .dataframe tbody tr th:only-of-type {\n",
       "        vertical-align: middle;\n",
       "    }\n",
       "\n",
       "    .dataframe tbody tr th {\n",
       "        vertical-align: top;\n",
       "    }\n",
       "\n",
       "    .dataframe thead th {\n",
       "        text-align: right;\n",
       "    }\n",
       "</style>\n",
       "<table border=\"1\" class=\"dataframe\">\n",
       "  <thead>\n",
       "    <tr style=\"text-align: right;\">\n",
       "      <th></th>\n",
       "      <th>y</th>\n",
       "      <th>text</th>\n",
       "      <th>is_suicide</th>\n",
       "    </tr>\n",
       "  </thead>\n",
       "  <tbody>\n",
       "    <tr>\n",
       "      <th>1</th>\n",
       "      <td>1</td>\n",
       "      <td>feeling overwhelmed hopeless depressed past co...</td>\n",
       "      <td>suicidal</td>\n",
       "    </tr>\n",
       "    <tr>\n",
       "      <th>3</th>\n",
       "      <td>1</td>\n",
       "      <td>tired hearing bullshit shit like better purpos...</td>\n",
       "      <td>suicidal</td>\n",
       "    </tr>\n",
       "    <tr>\n",
       "      <th>5</th>\n",
       "      <td>1</td>\n",
       "      <td>talk suicide weird question someplace talk wan...</td>\n",
       "      <td>suicidal</td>\n",
       "    </tr>\n",
       "    <tr>\n",
       "      <th>8</th>\n",
       "      <td>1</td>\n",
       "      <td>suicide note know pas know people know care wa...</td>\n",
       "      <td>suicidal</td>\n",
       "    </tr>\n",
       "    <tr>\n",
       "      <th>11</th>\n",
       "      <td>1</td>\n",
       "      <td>read talk year old girlfrend year talking gett...</td>\n",
       "      <td>suicidal</td>\n",
       "    </tr>\n",
       "  </tbody>\n",
       "</table>\n",
       "</div>"
      ],
      "text/plain": [
       "    y                                               text is_suicide\n",
       "1   1  feeling overwhelmed hopeless depressed past co...   suicidal\n",
       "3   1  tired hearing bullshit shit like better purpos...   suicidal\n",
       "5   1  talk suicide weird question someplace talk wan...   suicidal\n",
       "8   1  suicide note know pas know people know care wa...   suicidal\n",
       "11  1  read talk year old girlfrend year talking gett...   suicidal"
      ]
     },
     "execution_count": 21,
     "metadata": {},
     "output_type": "execute_result"
    }
   ],
   "source": [
    "reddits_df.head()"
   ]
  },
  {
   "cell_type": "code",
   "execution_count": 22,
   "metadata": {},
   "outputs": [
    {
     "data": {
      "text/plain": [
       "(1873, 3)"
      ]
     },
     "execution_count": 22,
     "metadata": {},
     "output_type": "execute_result"
    }
   ],
   "source": [
    "reddits_df.shape"
   ]
  },
  {
   "cell_type": "code",
   "execution_count": 24,
   "metadata": {},
   "outputs": [],
   "source": [
    "# importing the \"tarfile\" module\n",
    "#import tarfile\n",
    "\n",
    "# open file\n",
    "#file = tarfile.open('universal-sentence-encoder-multilingual-large_3.tar.gz')\n",
    "\n",
    "# extracting file\n",
    "#file.extractall(\"C:\\\\Users\\\\user\\\\SD\\\\GUSE\\GUSE3\")\n",
    "\n",
    "#file.close()"
   ]
  },
  {
   "cell_type": "code",
   "execution_count": 25,
   "metadata": {},
   "outputs": [],
   "source": [
    "use = hub.load(\"C:\\\\Users\\\\user\\\\SD\\\\GUSE\\\\GUSE3\")"
   ]
  },
  {
   "cell_type": "code",
   "execution_count": 26,
   "metadata": {},
   "outputs": [],
   "source": [
    "from sklearn.preprocessing import OneHotEncoder\n",
    "\n",
    "type_one_hot = OneHotEncoder(sparse=False).fit_transform(\n",
    "  reddits_df.is_suicide.to_numpy().reshape(-1, 1)\n",
    ")"
   ]
  },
  {
   "cell_type": "code",
   "execution_count": 27,
   "metadata": {},
   "outputs": [],
   "source": [
    "train_reddits, test_reddits, y_train, y_test =\\\n",
    "  train_test_split(\n",
    "    reddits_df.text, \n",
    "    type_one_hot, \n",
    "    test_size=.2, \n",
    "    random_state=RANDOM_SEED\n",
    "  )"
   ]
  },
  {
   "cell_type": "code",
   "execution_count": 28,
   "metadata": {},
   "outputs": [
    {
     "name": "stderr",
     "output_type": "stream",
     "text": [
      "100%|██████████| 1498/1498 [01:40<00:00, 14.94it/s]\n"
     ]
    }
   ],
   "source": [
    "X_train = []\n",
    "for r in tqdm(train_reddits):\n",
    "  emb = use(r)\n",
    "  reddit_emb = tf.reshape(emb, [-1]).numpy()\n",
    "  X_train.append(reddit_emb)\n",
    "\n",
    "X_train = np.array(X_train)"
   ]
  },
  {
   "cell_type": "code",
   "execution_count": 29,
   "metadata": {},
   "outputs": [
    {
     "name": "stderr",
     "output_type": "stream",
     "text": [
      "100%|██████████| 375/375 [00:25<00:00, 14.76it/s]\n"
     ]
    }
   ],
   "source": [
    "X_test = []\n",
    "for r in tqdm(test_reddits):\n",
    "  emb = use(r)\n",
    "  reddit_emb = tf.reshape(emb, [-1]).numpy()\n",
    "  X_test.append(reddit_emb)\n",
    "\n",
    "X_test = np.array(X_test)"
   ]
  },
  {
   "cell_type": "code",
   "execution_count": 30,
   "metadata": {},
   "outputs": [
    {
     "name": "stdout",
     "output_type": "stream",
     "text": [
      "(1498, 512) (375, 512)\n"
     ]
    }
   ],
   "source": [
    "print(X_train.shape, X_test.shape)"
   ]
  },
  {
   "cell_type": "code",
   "execution_count": 31,
   "metadata": {},
   "outputs": [
    {
     "name": "stdout",
     "output_type": "stream",
     "text": [
      "(1498, 2) (375, 2)\n"
     ]
    }
   ],
   "source": [
    "print(y_train.shape, y_test.shape)"
   ]
  },
  {
   "cell_type": "code",
   "execution_count": 32,
   "metadata": {},
   "outputs": [
    {
     "data": {
      "text/plain": [
       "1498"
      ]
     },
     "execution_count": 32,
     "metadata": {},
     "output_type": "execute_result"
    }
   ],
   "source": [
    "X_train.shape[0]"
   ]
  },
  {
   "cell_type": "code",
   "execution_count": 33,
   "metadata": {},
   "outputs": [
    {
     "data": {
      "text/plain": [
       "512"
      ]
     },
     "execution_count": 33,
     "metadata": {},
     "output_type": "execute_result"
    }
   ],
   "source": [
    "X_train.shape[1]"
   ]
  },
  {
   "cell_type": "code",
   "execution_count": null,
   "metadata": {},
   "outputs": [],
   "source": [
    "from tensorflow.keras.layers import Dense, Flatten, Dropout, Conv1D, Input"
   ]
  },
  {
   "cell_type": "code",
   "execution_count": 44,
   "metadata": {},
   "outputs": [
    {
     "name": "stdout",
     "output_type": "stream",
     "text": [
      "Model: \"sequential_3\"\n",
      "_________________________________________________________________\n",
      " Layer (type)                Output Shape              Param #   \n",
      "=================================================================\n",
      " conv1d_3 (Conv1D)           (None, 512, 5)            15        \n",
      "                                                                 \n",
      " dropout_3 (Dropout)         (None, 512, 5)            0         \n",
      "                                                                 \n",
      " flatten_3 (Flatten)         (None, 2560)              0         \n",
      "                                                                 \n",
      " dense_6 (Dense)             (None, 64)                163904    \n",
      "                                                                 \n",
      " dense_7 (Dense)             (None, 2)                 130       \n",
      "                                                                 \n",
      "=================================================================\n",
      "Total params: 164,049\n",
      "Trainable params: 164,049\n",
      "Non-trainable params: 0\n",
      "_________________________________________________________________\n"
     ]
    }
   ],
   "source": [
    "model = keras.Sequential()\n",
    "\n",
    "model.add(keras.layers.Input(shape=(X_train.shape[1], 1)))\n",
    "model.add(keras.layers.Conv1D(5, (2,), padding='same', activation='relu'))\n",
    "model.add(keras.layers.Dropout(0.5))\n",
    "model.add(keras.layers.Flatten())\n",
    "model.add(keras.layers.Dense(64, activation='relu', kernel_initializer='he_uniform'))\n",
    "model.add(keras.layers.Dense(2, activation='sigmoid'))\n",
    "model.compile(loss='binary_crossentropy', optimizer=keras.optimizers.Adam(), \n",
    "                              metrics=['accuracy',\n",
    "                              tf.keras.metrics.Precision(),\n",
    "                              tf.keras.metrics.Recall(),\n",
    "                              tfa.metrics.F1Score(num_classes=2)])\n",
    "model.summary()"
   ]
  },
  {
   "cell_type": "code",
   "execution_count": 45,
   "metadata": {},
   "outputs": [
    {
     "name": "stdout",
     "output_type": "stream",
     "text": [
      "Epoch 1/10\n",
      "38/38 [==============================] - 1s 13ms/step - loss: 0.6802 - accuracy: 0.5768 - precision_3: 0.5766 - recall_3: 0.5718 - f1_score: 0.5432 - val_loss: 0.6441 - val_accuracy: 0.6800 - val_precision_3: 0.6973 - val_recall_3: 0.6833 - val_f1_score: 0.6758\n",
      "Epoch 2/10\n",
      "38/38 [==============================] - 0s 5ms/step - loss: 0.6189 - accuracy: 0.6661 - precision_3: 0.6628 - recall_3: 0.6678 - f1_score: 0.6627 - val_loss: 0.5746 - val_accuracy: 0.7133 - val_precision_3: 0.7279 - val_recall_3: 0.7133 - val_f1_score: 0.7100\n",
      "Epoch 3/10\n",
      "38/38 [==============================] - 0s 5ms/step - loss: 0.5892 - accuracy: 0.7120 - precision_3: 0.7033 - recall_3: 0.7104 - f1_score: 0.7112 - val_loss: 0.5430 - val_accuracy: 0.7467 - val_precision_3: 0.7442 - val_recall_3: 0.7467 - val_f1_score: 0.7458\n",
      "Epoch 4/10\n",
      "38/38 [==============================] - 0s 4ms/step - loss: 0.5643 - accuracy: 0.7279 - precision_3: 0.7302 - recall_3: 0.7229 - f1_score: 0.7261 - val_loss: 0.5408 - val_accuracy: 0.7300 - val_precision_3: 0.7291 - val_recall_3: 0.7267 - val_f1_score: 0.7291\n",
      "Epoch 5/10\n",
      "38/38 [==============================] - 0s 5ms/step - loss: 0.5528 - accuracy: 0.7220 - precision_3: 0.7233 - recall_3: 0.7245 - f1_score: 0.7211 - val_loss: 0.5319 - val_accuracy: 0.7333 - val_precision_3: 0.7327 - val_recall_3: 0.7400 - val_f1_score: 0.7290\n",
      "Epoch 6/10\n",
      "38/38 [==============================] - 0s 5ms/step - loss: 0.5510 - accuracy: 0.7062 - precision_3: 0.7046 - recall_3: 0.7028 - f1_score: 0.7054 - val_loss: 0.5300 - val_accuracy: 0.7433 - val_precision_3: 0.7475 - val_recall_3: 0.7500 - val_f1_score: 0.7430\n",
      "Epoch 7/10\n",
      "38/38 [==============================] - 0s 4ms/step - loss: 0.5347 - accuracy: 0.7254 - precision_3: 0.7251 - recall_3: 0.7245 - f1_score: 0.7241 - val_loss: 0.5286 - val_accuracy: 0.7433 - val_precision_3: 0.7384 - val_recall_3: 0.7433 - val_f1_score: 0.7431\n",
      "Epoch 8/10\n",
      "38/38 [==============================] - 0s 5ms/step - loss: 0.5357 - accuracy: 0.7421 - precision_3: 0.7400 - recall_3: 0.7412 - f1_score: 0.7412 - val_loss: 0.5349 - val_accuracy: 0.7467 - val_precision_3: 0.7458 - val_recall_3: 0.7433 - val_f1_score: 0.7465\n",
      "Epoch 9/10\n",
      "38/38 [==============================] - 0s 4ms/step - loss: 0.5280 - accuracy: 0.7371 - precision_3: 0.7377 - recall_3: 0.7396 - f1_score: 0.7362 - val_loss: 0.5455 - val_accuracy: 0.7100 - val_precision_3: 0.7114 - val_recall_3: 0.7067 - val_f1_score: 0.7093\n",
      "Epoch 10/10\n",
      "38/38 [==============================] - 0s 4ms/step - loss: 0.5107 - accuracy: 0.7571 - precision_3: 0.7556 - recall_3: 0.7563 - f1_score: 0.7565 - val_loss: 0.5411 - val_accuracy: 0.7267 - val_precision_3: 0.7273 - val_recall_3: 0.7200 - val_f1_score: 0.7267\n",
      "12/12 [==============================] - 0s 2ms/step - loss: 0.5422 - accuracy: 0.7467 - precision_3: 0.7500 - recall_3: 0.7440 - f1_score: 0.7463\n"
     ]
    },
    {
     "data": {
      "text/plain": [
       "[0.5421967506408691,\n",
       " 0.746666669845581,\n",
       " 0.75,\n",
       " 0.7440000176429749,\n",
       " array([0.73684216, 0.7557841 ], dtype=float32)]"
      ]
     },
     "execution_count": 45,
     "metadata": {},
     "output_type": "execute_result"
    }
   ],
   "source": [
    "history4 = model4.fit(\n",
    "    X_train, y_train, \n",
    "    epochs=10, \n",
    "    batch_size=32, \n",
    "    validation_split=0.2, \n",
    "    verbose=1, \n",
    "    shuffle=True\n",
    ")\n",
    "model.evaluate(X_test, y_test)"
   ]
  }
 ],
 "metadata": {
  "kernelspec": {
   "display_name": "Python 3",
   "language": "python",
   "name": "python3"
  },
  "language_info": {
   "codemirror_mode": {
    "name": "ipython",
    "version": 3
   },
   "file_extension": ".py",
   "mimetype": "text/x-python",
   "name": "python",
   "nbconvert_exporter": "python",
   "pygments_lexer": "ipython3",
   "version": "3.8.3"
  }
 },
 "nbformat": 4,
 "nbformat_minor": 4
}
